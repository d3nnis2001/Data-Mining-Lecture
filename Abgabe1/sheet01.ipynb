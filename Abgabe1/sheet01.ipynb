{
 "cells": [
  {
   "cell_type": "markdown",
   "id": "c2e647a4",
   "metadata": {},
   "source": [
    "# Exercise Sheet 01: Data preprocessing, visualization, correlation, statistical testing, and modeling\n",
    "\n",
    "**Introduction to Data Mining WS23/24**  \n",
    "**Bielefeld University**  \n",
    "**Alina Deriyeva, Benjamin Paaßen**  \n",
    "**Exercise Sheet Publication Date: 2023-10-23**  \n",
    "**Exercise Sheet Submission Deadline: 2023-11-03, noon (i.e. 12:00), via git or e-mail to aderiyeva@techfak.uni-bielefeld.de**\n",
    "\n",
    "**NOTE** The use of language models/AI tools is permitted IF you notify us of the use (just indicate it in the respective task) and are still able to understand and present your results. We also appreciate it if you link to a chatlog of the interaction with the language model/AI tool so that we can understand better how students tend to use these tools."
   ]
  },
  {
   "cell_type": "markdown",
   "id": "9f8967b8",
   "metadata": {},
   "source": [
    "**PLEASE INDICATE ALL AUTHORS OF THE SUBMISSION IN THIS FIELD**"
   ]
  },
  {
   "cell_type": "markdown",
   "id": "2591c02c",
   "metadata": {},
   "source": [
    "## Preamble: Data set\n",
    "\n",
    "In this exercise sheet, we investigate first data exploration activities that can be performed on typical, tabular data sets, up to simple statistical testing.\n",
    "\n",
    "The file `sheet01_data.csv` contains fictional data as might be produced in an educational study. Each row represents a student participating in the study. The first column is just the student index, the second column indicates the experimental condition the student was in (`0` for control group, `1` for intervention group). The third column is the student's test result on a pre-test, the fourth column is the student's test result on a post-test.\n",
    "\n",
    "The following line loads this raw data and prints it."
   ]
  },
  {
   "cell_type": "code",
   "execution_count": 97,
   "id": "d0d93f7c",
   "metadata": {},
   "outputs": [
    {
     "name": "stdout",
     "output_type": "stream",
     "text": [
      "[[  0.   0.  27.  40.]\n",
      " [  1.   0.  31.  34.]\n",
      " [  2.   0.  30.  nan]\n",
      " [  3.   0.  20.  nan]\n",
      " [  4.   0.  41.  54.]\n",
      " [  5.   0.  39.  51.]\n",
      " [  6.   0.  20.  33.]\n",
      " [  7.   0.  27.  36.]\n",
      " [  8.   0.  79.  83.]\n",
      " [  9.   0.  33.  46.]\n",
      " [ 10.   0.  22.  29.]\n",
      " [ 11.   0.  22.  41.]\n",
      " [ 12.   0.  29.  nan]\n",
      " [ 13.   0.  25.  nan]\n",
      " [ 14.   0.  41.  47.]\n",
      " [ 15.   0.  23.  36.]\n",
      " [ 16.   0.  17.  30.]\n",
      " [ 17.   0.  93. 100.]\n",
      " [ 18.   0.  34.  40.]\n",
      " [ 19.   0.  23.  27.]\n",
      " [ 20.   0.  48.  53.]\n",
      " [ 21.   0.  19.  26.]\n",
      " [ 22.   0.  28.  33.]\n",
      " [ 23.   0.  38.  46.]\n",
      " [ 24.   0.  22.  34.]\n",
      " [ 25.   0.  34.  45.]\n",
      " [ 26.   0.  36.  49.]\n",
      " [ 27.   0.  33.  47.]\n",
      " [ 28.   0.  40.  41.]\n",
      " [ 29.   0.  39.  52.]\n",
      " [ 30.   1.  24.  50.]\n",
      " [ 31.   1.  38.  62.]\n",
      " [ 32.   1.  34.  51.]\n",
      " [ 33.   1.  37.  nan]\n",
      " [ 34.   1.  31.  44.]\n",
      " [ 35.   1.  37.  57.]\n",
      " [ 36.   1.  25.  50.]\n",
      " [ 37.   1.  23.  37.]\n",
      " [ 38.   1.  12.  38.]\n",
      " [ 39.   1.  31.  56.]\n",
      " [ 40.   1.  36.  46.]\n",
      " [ 41.   1.  34.  48.]\n",
      " [ 42.   1.  85. 100.]\n",
      " [ 43.   1.  41.  59.]\n",
      " [ 44.   1.  14.  37.]\n",
      " [ 45.   1.   7.  29.]\n",
      " [ 46.   1.  30.  54.]\n",
      " [ 47.   1.  42.  62.]\n",
      " [ 48.   1.  25.  44.]\n",
      " [ 49.   1.  29.  53.]\n",
      " [ 50.   1.  17.  40.]\n",
      " [ 51.   1.  40.  63.]\n",
      " [ 52.   1.  29.  46.]\n",
      " [ 53.   1.  33.  nan]\n",
      " [ 54.   1.  24.  50.]\n",
      " [ 55.   1.  38.  53.]\n",
      " [ 56.   1.  26.  48.]\n",
      " [ 57.   1.  41.  nan]\n",
      " [ 58.   1.  37.  65.]\n",
      " [ 59.   1.  41.  61.]]\n"
     ]
    }
   ],
   "source": [
    "import numpy as np\n",
    "import matplotlib.pyplot as plt\n",
    "import scipy.stats\n",
    "\n",
    "X = np.loadtxt('sheet01_data.csv', skiprows = 1, delimiter = '\\t')\n",
    "print(X)"
   ]
  },
  {
   "cell_type": "markdown",
   "id": "4e93d467",
   "metadata": {},
   "source": [
    "### Task 01.01\n",
    "\n",
    "Write python code to automatically identify outliers, which are defined as any students with a pre-test score higher than 3 standard deviations above the mean. Write python code that removes these outliers from the data set."
   ]
  },
  {
   "cell_type": "code",
   "execution_count": 98,
   "id": "04b3b0e2",
   "metadata": {},
   "outputs": [],
   "source": [
    "# Calc mean and std of pre-test\n",
    "mean = X[:,2].mean()\n",
    "std = X[:,2].std()\n",
    "\n",
    "#Get all the indexes that are outliers\n",
    "removers = np.where(X[:,2] > mean + std*3)\n",
    "\n",
    "# Override X. We remove the values by index that are outliers\n",
    "X = np.delete(X, removers, axis=0)"
   ]
  },
  {
   "cell_type": "markdown",
   "id": "67a93666",
   "metadata": {},
   "source": [
    "Print how many points are left in the control group and the intervention group after outlier removal"
   ]
  },
  {
   "cell_type": "code",
   "execution_count": 99,
   "id": "3a11dc77",
   "metadata": {},
   "outputs": [
    {
     "name": "stdout",
     "output_type": "stream",
     "text": [
      "There are 28 points left after the outlier removal from the control group\n",
      "There are 29 points left after the outlier removal from the intervential group\n"
     ]
    }
   ],
   "source": [
    "# Get the length of the occurences of the values 0 and 1 in the experimental condition column\n",
    "print(f\"There are {len(np.where(X[:,1] == 0)[0])} points left after the outlier removal from the control group\")\n",
    "print(f\"There are {len(np.where(X[:,1] == 1)[0])} points left after the outlier removal from the intervential group\")"
   ]
  },
  {
   "cell_type": "markdown",
   "id": "b4d3cbdb",
   "metadata": {},
   "source": [
    "### Task 01.02\n",
    "\n",
    "Write python code to compute the mean pre- and post-test score, as well as the respective standard deviation, of the control group and the intervention group. Be aware of nan values. Print the results."
   ]
  },
  {
   "cell_type": "code",
   "execution_count": 100,
   "id": "64cc8bb6",
   "metadata": {},
   "outputs": [
    {
     "name": "stdout",
     "output_type": "stream",
     "text": [
      "The mean of the pre-test score from the control group is: 30.04\n",
      "The mean of the post-test score from the control group is: 40.42\n",
      "The mean of the pre-test score from the intervential group is: 30.21\n",
      "The mean of the post-test score from the intervential group is: 50.12\n",
      "The std of the pre-test score from the control group is: 8.03\n",
      "The std of the post-test score from the control group is: 8.40\n",
      "The std of the pre-test score from the intervential group is: 8.03\n",
      "The std of the post-test score from the intervential group is: 8.40\n"
     ]
    }
   ],
   "source": [
    "# Get the indexes of the non NaN values to filter them out\n",
    "idxNotNanThirdControl = np.where(~np.isnan(X[:,2]) & (X[:,1] == 0))[0]\n",
    "idxNotNanForthControl = np.where(~np.isnan(X[:,3]) & (X[:,1] == 0))[0]\n",
    "idxNotNanThirdInter = np.where(~np.isnan(X[:,2]) & (X[:,1] == 1))[0]\n",
    "idxNotNanForthInter = np.where(~np.isnan(X[:,3]) & (X[:,1] == 1))[0]\n",
    "\n",
    "# Get the values for each group\n",
    "\n",
    "controlPre = X[:,2][idxNotNanThirdControl]\n",
    "controlPost = X[:,3][idxNotNanForthControl] \n",
    "\n",
    "interPre = X[:,2][idxNotNanThirdInter]\n",
    "interPost = X[:,3][idxNotNanForthInter]\n",
    "\n",
    "# Print out the statements\n",
    "\n",
    "print(f\"The mean of the pre-test score from the control group is: {controlPre.mean():.2f}\")\n",
    "print(f\"The mean of the post-test score from the control group is: {controlPost.mean():.2f}\")\n",
    "\n",
    "print(f\"The mean of the pre-test score from the intervential group is: {interPre.mean():.2f}\")\n",
    "print(f\"The mean of the post-test score from the intervential group is: {interPost.mean():.2f}\")\n",
    "\n",
    "print(f\"The std of the pre-test score from the control group is: {controlPre.std():.2f}\")\n",
    "print(f\"The std of the post-test score from the control group is: {controlPost.std():.2f}\")\n",
    "\n",
    "print(f\"The std of the pre-test score from the intervential group is: {controlPre.std():.2f}\")\n",
    "print(f\"The std of the post-test score from the intervential group is: {controlPost.std():.2f}\")"
   ]
  },
  {
   "cell_type": "markdown",
   "id": "f98eecb2",
   "metadata": {},
   "source": [
    "### Task 01.03\n",
    "\n",
    "Write python code to impute the missing values (that means: nan values) in the post test scores by the mean of the data. HOWEVER, the imputation should be done separately for the control and the intervention group.\n",
    "\n"
   ]
  },
  {
   "cell_type": "code",
   "execution_count": 101,
   "id": "bc00cfc0",
   "metadata": {},
   "outputs": [],
   "source": [
    "# Get the indices of the nan values for each group\n",
    "nanPreControl = np.where(np.isnan(X[:,2]) & (X[:,1] == 0))[0]\n",
    "nanPostControl = np.where(np.isnan(X[:,3]) & (X[:,1] == 0))[0]\n",
    "nanPreInter = np.where(np.isnan(X[:,2]) & (X[:,1] == 1))[0]\n",
    "nanPostInter = np.where(np.isnan(X[:,3]) & (X[:,1] == 1))[0]\n",
    "\n",
    "# Replace the indices of the nan values with the corresponding means\n",
    "X[:,2][nanPreControl] = int(controlPre.mean())\n",
    "X[:,2][nanPreInter] = int(interPre.mean())\n",
    "X[:,3][nanPostControl] = int(controlPost.mean())\n",
    "X[:,3][nanPostInter] = int(interPost.mean())"
   ]
  },
  {
   "cell_type": "markdown",
   "id": "6dc11501",
   "metadata": {},
   "source": [
    "## Data Visualization"
   ]
  },
  {
   "cell_type": "markdown",
   "id": "e14b18c1",
   "metadata": {},
   "source": [
    "### Task 01.04\n",
    "\n",
    "Display two scatter plots (via `matplotlib.pyplot.scatter`), one for the control group and one for the intervention group, with pre-test score on the x-axis and post-test score on the y-axis. Label the axis and give the plots titles. Interpret these plot: Do you believe that pre- and post-test score correlate?"
   ]
  },
  {
   "cell_type": "code",
   "execution_count": 102,
   "id": "73d743b5",
   "metadata": {},
   "outputs": [
    {
     "data": {
      "image/png": "[encoded data removed]",
      "text/plain": [
       "<Figure size 640x480 with 1 Axes>"
      ]
     },
     "metadata": {},
     "output_type": "display_data"
    },
    {
     "data": {
      "image/png": "[encoded data removed]",
      "text/plain": [
       "<Figure size 640x480 with 1 Axes>"
      ]
     },
     "metadata": {},
     "output_type": "display_data"
    }
   ],
   "source": [
    "# Get the indices for the control and intervention group\n",
    "indicesControl = np.where(X[:,1] == 0)[0]\n",
    "indicesInter = np.where(X[:,1] == 1)[0]\n",
    "\n",
    "# Plot for the controlgroup\n",
    "plt.scatter(X[:,2][indicesControl], X[:,3][indicesControl], marker=\"x\")\n",
    "plt.xlabel(\"Pre-Test-Score\")\n",
    "plt.ylabel(\"Post-Test-Score\")\n",
    "plt.title(\"Pre- and Post-test for the Control group\")\n",
    "plt.show()\n",
    "\n",
    "# Plot for the Intervention Group\n",
    "plt.scatter(X[:,2][indicesInter], X[:,3][indicesInter], c=\"orange\", marker=\"x\")\n",
    "plt.xlabel(\"Pre-Test-Score\")\n",
    "plt.ylabel(\"Post-Test-Score\")\n",
    "plt.title(\"Pre- and Post-test for the Intervention Group\")\n",
    "plt.show()"
   ]
  },
  {
   "cell_type": "markdown",
   "id": "6fde7831",
   "metadata": {},
   "source": [
    "Yes, I believe that pre- and post-test scores correlate because post-test scores tend to be higher when pre-test scores are higher and vice versa."
   ]
  },
  {
   "cell_type": "markdown",
   "id": "cb85469c",
   "metadata": {},
   "source": [
    "### Task 01.05\n",
    "\n",
    "Display a bar plot with four bars (with error bars): pre-test mean (and standard error) for control and intervention group; and post-test mean (with standard error) for control and intervention group. Label the axes. Interpret this plot: Where are significant differences, do you think? What is your explanation for these differences?"
   ]
  },
  {
   "cell_type": "code",
   "execution_count": 103,
   "id": "b449f058",
   "metadata": {},
   "outputs": [
    {
     "data": {
      "image/png": "[encoded data removed]",
      "text/plain": [
       "<Figure size 640x480 with 1 Axes>"
      ]
     },
     "metadata": {},
     "output_type": "display_data"
    }
   ],
   "source": [
    "Con = np.where(X[:,1] == 0)[0]\n",
    "Inter = np.where(X[:,1] == 1)[0]\n",
    "\n",
    "plt.bar(x=[1,2,3,4], height=[X[:,2][Con].mean(), X[:,2][Inter].mean(), X[:,3][Con].mean(), X[:,3][Inter].mean()], yerr=[X[:,2][Con].std(), X[:,2][Inter].std(), X[:,3][Con].std(), X[:,3][Inter].std()])\n",
    "plt.xticks([1,2,3,4], [\"ControlPre\", \"IntePre\", \"ControlPost\", \"InterPost\"])\n",
    "plt.xlabel(\"Groups\")\n",
    "plt.ylabel(\"Mean-Score\")\n",
    "plt.title(\"Mean Score for each group\")\n",
    "plt.show()"
   ]
  },
  {
   "cell_type": "markdown",
   "id": "02752dcc",
   "metadata": {},
   "source": [
    "**Answer**\n",
    "\n",
    "We think control pre and intervention pre do not differ.\n",
    "Control post is higher than both control pre and intervention pre because the students learned something between pre- and post-test.\n",
    "intervention post is even higher than control post because students learned more in the intervention than in the control condition."
   ]
  },
  {
   "cell_type": "markdown",
   "id": "96c8b00a",
   "metadata": {},
   "source": [
    "### Task 01.06\n",
    "\n",
    "Display a bar plot with two bars (with error bars): the difference between post- and pre-test score for the control group (with standard error) and for the intervention group (with standard error). Label the axes. Interpret this plot: Do you think the difference of post- and pre-test scores significantly differs between control and intervention group?"
   ]
  },
  {
   "cell_type": "code",
   "execution_count": 104,
   "id": "95af15e3",
   "metadata": {},
   "outputs": [
    {
     "data": {
      "image/png": "[encoded data removed]",
      "text/plain": [
       "<Figure size 640x480 with 1 Axes>"
      ]
     },
     "metadata": {},
     "output_type": "display_data"
    }
   ],
   "source": [
    "plt.bar(x=[1,2], height=[(X[:,3][Con] - X[:,2][Con]).mean(), (X[:,3][Inter] - X[:,2][Inter]).mean()], yerr=[abs((X[:,3][Con] - X[:,2][Con]).std()), abs((X[:,3][Inter] - X[:,2][Inter]).std())])\n",
    "plt.xticks([1,2], [\"Control\", \"Intervention\"])\n",
    "plt.xlabel(\"Groups\")\n",
    "plt.ylabel(\"Difference\")\n",
    "plt.title(\"Difference in score for each group\")\n",
    "plt.show()"
   ]
  },
  {
   "cell_type": "markdown",
   "id": "3886ad85",
   "metadata": {},
   "source": [
    "**Answer**\n",
    "\n",
    "Yes, I think the score difference is significantly higher in the intervention group."
   ]
  },
  {
   "cell_type": "markdown",
   "id": "296e5b5e",
   "metadata": {},
   "source": [
    "### Task 01.07 (Bonus task)\n",
    "\n",
    "Display a box plot with four boxes: pre-test results in the control and intervention group, and post-test results in the control and intervention group. Label the axes."
   ]
  },
  {
   "cell_type": "code",
   "execution_count": 105,
   "id": "7d6ec57c",
   "metadata": {},
   "outputs": [
    {
     "data": {
      "image/png": "[encoded data removed]",
      "text/plain": [
       "<Figure size 640x480 with 1 Axes>"
      ]
     },
     "metadata": {},
     "output_type": "display_data"
    }
   ],
   "source": [
    "plt.boxplot([X[:,2][Con], X[:,2][Inter], X[:,3][Con], X[:,3][Inter]])\n",
    "plt.xticks([1,2,3,4], [\"ControlPre\", \"IntePre\", \"ControlPost\", \"InterPost\"])\n",
    "plt.xlabel(\"Groups\")\n",
    "plt.ylabel(\"Score-Results\")\n",
    "plt.title(\"Score for each group\")\n",
    "plt.show()"
   ]
  },
  {
   "cell_type": "markdown",
   "id": "874ce4ea",
   "metadata": {},
   "source": [
    "### Task 01.08 (Bonus Task)\n",
    "\n",
    "Display a box plot with two boxes: difference between post-test and pre-test scores for the control group and the intervention group."
   ]
  },
  {
   "cell_type": "code",
   "execution_count": 106,
   "id": "084699cb",
   "metadata": {},
   "outputs": [
    {
     "data": {
      "image/png": "[encoded data removed]",
      "text/plain": [
       "<Figure size 640x480 with 1 Axes>"
      ]
     },
     "metadata": {},
     "output_type": "display_data"
    }
   ],
   "source": [
    "plt.boxplot([(X[:,3][Con] - X[:,2][Con]).mean(), (X[:,3][Inter] - X[:,2][Inter]).mean()])\n",
    "plt.xticks([1,2], [\"Control\", \"Intervention\"])\n",
    "plt.xlabel(\"Groups\")\n",
    "plt.ylabel(\"Difference\")\n",
    "plt.title(\"Difference in score for each group\")\n",
    "plt.show()"
   ]
  },
  {
   "cell_type": "markdown",
   "id": "6e4a6bbf",
   "metadata": {},
   "source": [
    "## Statistical Testing"
   ]
  },
  {
   "cell_type": "markdown",
   "id": "2679fdb5",
   "metadata": {},
   "source": [
    "### Task 01.09\n",
    "\n",
    "Write a python function to compute the Pearson correlation between two arrays of the same size."
   ]
  },
  {
   "cell_type": "code",
   "execution_count": 107,
   "id": "416d471f",
   "metadata": {},
   "outputs": [],
   "source": [
    "def pearson_correlation(x,y):\n",
    "    if len(x) != len(y):\n",
    "        return -1\n",
    "\n",
    "    mean_x = np.mean(x)\n",
    "    mean_y = np.mean(y)\n",
    "    sigma_x = np.std(x)\n",
    "    sigma_y = np.std(y)\n",
    "\n",
    "    r = 0\n",
    "    for i in range(len(x)):\n",
    "        r += ((x[i] - mean_x)/sigma_x) * ((y[i] - mean_y)/sigma_y)\n",
    "    r /= len(x)\n",
    "    \n",
    "    return r"
   ]
  },
  {
   "cell_type": "markdown",
   "id": "b451ceff",
   "metadata": {},
   "source": [
    "### Task 01.10\n",
    "\n",
    "Use your function to compute the Pearson correlation between pre-test and post-test scores for both control and intervention condition and print the scores.\n",
    "\n",
    "Interpret the strength of the correlation using the following rule of thumb from [Mukaka (2012)](https://www.ajol.info/index.php/mmj/article/download/81576/71739):\n",
    "\n",
    "* A correlation of $0.3 < |r| \\leq 0.5$ is considered small.\n",
    "* A correlation of $0.5 < |r| \\leq 0.7$ is considered moderate.\n",
    "* A correlation of $0.7 < |r| \\leq 0.9$ is considered high.\n",
    "* A correlation of $0.9 < |r| \\leq 1.0$ is considered very high."
   ]
  },
  {
   "cell_type": "code",
   "execution_count": 108,
   "id": "95846faa",
   "metadata": {},
   "outputs": [
    {
     "name": "stdout",
     "output_type": "stream",
     "text": [
      "The r-value for the control group is: 0.836960879341906\n",
      "The r-value for the intervention group is: 0.8368009048184849\n"
     ]
    }
   ],
   "source": [
    "r_control = pearson_correlation(X[:,2][indicesControl], X[:,3][indicesControl])\n",
    "r_inter = pearson_correlation(X[:,2][indicesInter], X[:,3][indicesInter])\n",
    "\n",
    "print(f\"The r-value for the control group is: {r_control}\")\n",
    "print(f\"The r-value for the intervention group is: {r_inter}\")"
   ]
  },
  {
   "cell_type": "markdown",
   "id": "22259ca3",
   "metadata": {},
   "source": [
    "Validate your scores by computing the Pearson correlation again with `scipy.stats.pearsonr`. Print both `r` and the `p` value returned by the function for both the control and the intervention condition. Are the correlations statistically significant at $0.01$ level?"
   ]
  },
  {
   "cell_type": "code",
   "execution_count": 109,
   "id": "dce1a401",
   "metadata": {},
   "outputs": [
    {
     "name": "stdout",
     "output_type": "stream",
     "text": [
      "The r-value for the control group is: 0.8369608793419057 with a p-value of 2.8461213079120333e-08\n",
      "The r-value for the intervention group is: 0.8368009048184848 with a p-value of 1.5485957837782408e-08\n"
     ]
    }
   ],
   "source": [
    "p_control = scipy.stats.pearsonr(X[:,2][indicesControl], X[:,3][indicesControl])\n",
    "p_interve = scipy.stats.pearsonr(X[:,2][indicesInter], X[:,3][indicesInter])\n",
    "\n",
    "print(f\"The r-value for the control group is: {p_control[0]} with a p-value of {p_control[1]}\")\n",
    "print(f\"The r-value for the intervention group is: {p_interve[0]} with a p-value of {p_interve[1]}\")"
   ]
  },
  {
   "cell_type": "markdown",
   "id": "13a27a9c",
   "metadata": {},
   "source": [
    "**ANSWER**\n",
    "\n",
    "According to Mukaka, the correlation between pre- and post-test scores is high in both the control and the intervention group.\n",
    "\n",
    "The correlations are statistically significant at 0.01 level, because the p values are below 0.01 and therefore the chance that the correlation is random is below 1%."
   ]
  },
  {
   "cell_type": "markdown",
   "id": "8a73b160",
   "metadata": {},
   "source": [
    "### Task 01.11\n",
    "\n",
    "Write a python function that performs a Welch $t$-test. In particular, your function should:\n",
    "1. compute the number of data points, the mean, and the standard deviation of both samples (use the `ddof = 1` parameter for the `np.std` function).\n",
    "2. compute the pooled standard deviation as\n",
    "\\begin{equation}\n",
    "\\sigma_\\text{pooled} = \\sqrt{\\frac{\\sigma_x^2}{n_x} + \\frac{\\sigma_y^2}{n_y}}\n",
    "\\end{equation}\n",
    "  where $n_x$ and $n_y$ are the number of data points in the two samples and $\\sigma_x$ and $\\sigma_y$ are the respective standard deviations.\n",
    "3. compute the $t$-statistic as \n",
    "\\begin{equation}\n",
    "t = -\\Big|\\frac{\\mu_x - \\mu_y}{\\sigma_\\text{pooled}}\\Big|\n",
    "\\end{equation}\n",
    "  where $\\mu_x$ and $\\mu_y$ are the means of the two samples.\n",
    "4. compute the number of degree of freedom via the Welch-Satterthwaite equation, meaning:\n",
    "\\begin{equation}\n",
    "\\text{df} = \\frac{\\sigma_\\text{pooled}^4}{\\frac{\\sigma_x^4}{n_x^2\\cdot(n_x - 1)} + \\frac{\\sigma_y^4}{n_y^2\\cdot(n_y - 1)}}\n",
    "\\end{equation}\n",
    "5. compute $p$ as twice the probability of any $t$ value equal or smaller to your value using the `cdf` function of `scipy.stats.t` with the number of freedoms as computed in the previous step.\n",
    "\n",
    "Your function should return both $t$ and $p$."
   ]
  },
  {
   "cell_type": "code",
   "execution_count": 110,
   "id": "572dea16",
   "metadata": {},
   "outputs": [],
   "source": [
    "import math\n",
    "\n",
    "def welsh_t_test(X, Y):\n",
    "    # 1.\n",
    "    n_x = len(X)\n",
    "    mu_x = np.mean(X)\n",
    "    sig_x = np.std(X, ddof=1)\n",
    "\n",
    "    n_y = len(Y)\n",
    "    mu_y = np.mean(Y)\n",
    "    sig_y = np.std(Y, ddof=1)\n",
    "\n",
    "    # 2.\n",
    "    sig_pooled = math.sqrt(sig_x**2/n_x + sig_y**2/n_y)\n",
    "\n",
    "    # 3.\n",
    "    t = - abs((mu_x - mu_y) / sig_pooled)\n",
    "\n",
    "    # 4.\n",
    "    df = sig_pooled**4 / (sig_x**4/(n_x**2 * (n_x - 1)) + sig_y**4/(n_y**2 * (n_y - 1)))\n",
    "\n",
    "    # 5.\n",
    "    p = 2 * scipy.stats.t.cdf(t, df)\n",
    "\n",
    "    return t, p"
   ]
  },
  {
   "cell_type": "markdown",
   "id": "da322421",
   "metadata": {},
   "source": [
    "### Task 01.12\n",
    "\n",
    "Write python code to perform the following Welch tests (using your function):\n",
    "1. the pre-test scores in the control versus the intervention condition\n",
    "2. the post-test scores in the control versus the intervention condition\n",
    "3. the differences between post- and pre-test scores in the control versus the intervention condition\n",
    "\n",
    "For each of the tests, print the $t$ and $p$.\n",
    "\n",
    "Which of the test results are significant at a $0.01$-level?\n",
    "\n",
    "**Hint:** You can validate that your function returns the correct $t$ and $p$ values by comparing to the output of the function `scipy.stats.ttest_ind` with `equal_var = False`."
   ]
  },
  {
   "cell_type": "code",
   "execution_count": 111,
   "id": "0b752429",
   "metadata": {},
   "outputs": [
    {
     "name": "stdout",
     "output_type": "stream",
     "text": [
      "The t-value for the pre-test is: -0.0738102614136434 with a p-value of 0.9414314685841807\n",
      "The t-value for the post-test is: -4.415331976267061 with a p-value of 4.787852666085871e-05\n",
      "The t-value for the comparison is: -7.379217517532059 with a p-value of 9.36640380705012e-10\n"
     ]
    }
   ],
   "source": [
    "t_pre, p_pre = welsh_t_test(X[:,2][indicesControl], X[:,2][indicesInter])\n",
    "t_post, p_post = welsh_t_test(X[:,3][indicesControl], X[:,3][indicesInter])\n",
    "t_comp, p_comp = welsh_t_test((X[:,3][indicesControl] - X[:,2][indicesControl]), (X[:,3][indicesInter] - X[:,2][indicesInter]))\n",
    "\n",
    "print(f\"The t-value for the pre-test is: {t_pre} with a p-value of {p_pre}\")\n",
    "print(f\"The t-value for the post-test is: {t_post} with a p-value of {p_post}\")\n",
    "print(f\"The t-value for the comparison is: {t_comp} with a p-value of {p_comp}\")"
   ]
  },
  {
   "cell_type": "markdown",
   "id": "ff34a6bd",
   "metadata": {},
   "source": [
    "**ANSWER**\n",
    "\n",
    "Test results for 2 and 3 are significant at 0.01 level, because the p value is smaller than 0.01. Test results for 1 are not significant, because the p value is larger than 0.01."
   ]
  },
  {
   "cell_type": "markdown",
   "id": "90cfc77a",
   "metadata": {},
   "source": [
    "### Task 01.13\n",
    "\n",
    "Compute the effect sizes for the difference in post-test minus pre-test score between control and intervention condition using the formula\n",
    "\n",
    "\\begin{equation}\n",
    "d = \\frac{|\\mu_x - \\mu_y|}{\\sqrt{\\frac{1}{2}(\\sigma_x^2 + \\sigma_y^2)}}\n",
    "\\end{equation}\n",
    "\n",
    "where $\\mu_x$ and $\\mu_y$ are the mean score difference in intervention and control condition and $\\sigma_x$ and $\\sigma_y$ are the respective standard deviations.\n",
    "\n",
    "Print the effect size and interpret the size of the effect using the following rule of thumb (by [Sawilowsky (2009)](https://digitalcommons.wayne.edu/cgi/viewcontent.cgi?article=1536&context=jmasm))\n",
    "* An effect of size $0.01 < d \\leq 0.2$ is considered very small.\n",
    "* An effect of size $0.2 < d \\leq 0.5$ is considered small.\n",
    "* An effect of size $0.5 < d \\leq 0.8$ is considered moderate.\n",
    "* An effect of size $0.8 < d \\leq 1.2$ is considered large.\n",
    "* An effect of size $1.2 < d \\leq 2.0$ is considered very large.\n",
    "* An effect of size $d > 2.0$ is considered huge."
   ]
  },
  {
   "cell_type": "code",
   "execution_count": 112,
   "id": "132d8c01",
   "metadata": {},
   "outputs": [
    {
     "name": "stdout",
     "output_type": "stream",
     "text": [
      "d: 1.1067470517850782\n",
      "Interpretation: large\n"
     ]
    }
   ],
   "source": [
    "mu_x = abs(np.mean(controlPost) - np.mean(controlPre))\n",
    "mu_y = abs(np.mean(interPost) - np.mean(interPre))\n",
    "\n",
    "\n",
    "sig_x = np.std(controlPre)\n",
    "sig_y = np.std(interPre)\n",
    "\n",
    "d = abs(mu_x - mu_y) / (np.sqrt(0.5 * (sig_x**2 + sig_y**2)))\n",
    "\n",
    "if 0.01 < d <= 0.2:\n",
    "    interpretation = \"very small\"\n",
    "elif 0.2 < d <= 0.5:\n",
    "    interpretation = \"small\"\n",
    "elif 0.5 < d <= 0.8:\n",
    "    interpretation = \"moderate\"\n",
    "elif 0.8 < d <= 1.2:\n",
    "    interpretation = \"large\"\n",
    "elif 1.2 < d <= 2.0:\n",
    "    interpretation = \"very large\"\n",
    "else:\n",
    "    interpretation = \"huge\"\n",
    "\n",
    "\n",
    "print(f\"d: {d}\")\n",
    "print(f\"Interpretation: {interpretation}\")"
   ]
  },
  {
   "cell_type": "markdown",
   "id": "0ee25242",
   "metadata": {},
   "source": [
    "### Task 01.14 (Bonus Task)\n",
    "\n",
    "Write python code that uses the wilcoxon sign rank test (via `scipy.stats.wilcoxon`) to check whether the post-test scores in the control condition are significantly different from the pre-test scores. Repeat the same analysis for the intervention condition."
   ]
  },
  {
   "cell_type": "code",
   "execution_count": 114,
   "id": "8fa61be4",
   "metadata": {},
   "outputs": [
    {
     "name": "stdout",
     "output_type": "stream",
     "text": [
      "Control: statistic=0.0, p-value=7.450580596923828e-09\n",
      "Intervention: statistic=0.0, p-value=3.725290298461914e-09\n"
     ]
    }
   ],
   "source": [
    "from scipy.stats import wilcoxon\n",
    "\n",
    "# Control group\n",
    "stat, p = wilcoxon(X[:,3][Con], X[:,2][Con])\n",
    "print(f\"Control: statistic={stat}, p-value={p}\")\n",
    "\n",
    "# Intervention group\n",
    "stat, p = wilcoxon(X[:,3][Inter], X[:,2][Inter])\n",
    "print(f\"Intervention: statistic={stat}, p-value={p}\")"
   ]
  },
  {
   "cell_type": "markdown",
   "id": "86c1e04e",
   "metadata": {},
   "source": [
    "## Probabilistic Modeling\n",
    "\n",
    "Let's assume that a student does a test in which they can achieve a certain number of points in the real numbers. Further, assume that the number of points achieved is generated from a Gaussian distribution with standard deviation $\\sigma$. However, the mean of the distribution depends on whether the student has understood the topic or not."
   ]
  },
  {
   "cell_type": "markdown",
   "id": "9cfcecc0",
   "metadata": {},
   "source": [
    "### Task 01.15\n",
    "\n",
    "Formalize this scenario. In particular:\n",
    "1. Model a random variable $Z$ that indicates whether the student understood the topic or not. What is the domain? What is the probability mass function $p_Z$? What are the parameters of this function?\n",
    "2. Model a random variable $X$ for the number of points the student achieves on the test. What is the conditional probability density function $p_{X|Z}$? What are the parameters of this function?"
   ]
  },
  {
   "cell_type": "markdown",
   "id": "7757c619",
   "metadata": {},
   "source": [
    "**ANSWER**\n",
    "\n",
    "__Model a random variable $Z$ that indicates whether the student understood the topic or not. What is the domain? What is the probability mass function $p_Z$? What are the parameters of this function?__\n",
    "\n",
    "---\n",
    "\n",
    "We can model the random variable $Z$ as a binary variable with a domain of {0,1} where 0 stands for \"did not understand\" and 1 for \"understood\". We can then define the probability mass function $p_Z$ as follows:\n",
    "\n",
    "$P(Z = 0) = p$\n",
    "\n",
    "$P(Z = 1) = 1-p$\n",
    "\n",
    "p is the probability of not understanding the topic.\n",
    "\n",
    "---\n",
    "\n",
    "__Model a random variable $X$ for the number of points the student achieves on the test. What is the conditional probability density function $p_{X|Z}$? What are the parameters of this function?__\n",
    "\n",
    "---\n",
    "\n",
    "We can model X as a gaussian distribution with a mean that depends on the value of $Z$.\n",
    "\n",
    "Case 1: *The student did not unterstand the topic*\n",
    "\n",
    "$p(X | Z = 0) = \\frac{1}{\\sigma_0 \\sqrt{2\\pi}} e^{-\\frac{(x - \\mu_0)^2}{2\\sigma_0^2}} $\n",
    "\n",
    "with Parameters $\\sigma_0$ for the standard deviation and $\\mu_0$ for the mean. Both parameters only consider the data of where Case 1 occurs. \n",
    "\n",
    "Case 2: *The student did understand the topic*\n",
    "\n",
    "$p(X | Z = 1) = \\frac{1}{\\sigma_1 \\sqrt{2\\pi}} e^{-\\frac{(x - \\mu_1)^2}{2\\sigma_1^2}}$\n",
    "\n",
    "with Parameters $\\sigma_1$ for the standard deviation and $\\mu_1$ for the mean. Both parameters only consider the data of where Case 2 occurs. \n"
   ]
  },
  {
   "cell_type": "markdown",
   "id": "0540b4aa",
   "metadata": {},
   "source": [
    "### Task 01.16\n",
    "\n",
    "Using Bayes' theorem and the law of total probability, compute the conditional probability mass $p_{Z|X}(1|x)$ for the student having understood the topic given their achieved number of points."
   ]
  },
  {
   "cell_type": "markdown",
   "id": "42722ba8",
   "metadata": {},
   "source": [
    "**ANSWER**\n",
    "\n",
    "The Bayes theorem: \n",
    "\n",
    "$p(A|B) = \\frac{p(B|A) \\cdot p(A)}{p(B)}$\n",
    "\n",
    "For the students who understood the topic:\n",
    "\n",
    "$p_{Z|X}(1|x) = \\frac{p_{X|Z}(x|1) \\cdot p_Z(1)}{p_X(x)}$\n"
   ]
  },
  {
   "cell_type": "markdown",
   "id": "6195d94c",
   "metadata": {},
   "source": [
    "### Task 01.17\n",
    "\n",
    "Assume that the numbers $x_1, \\ldots, x_m \\in \\mathbb{R}$ are generated (independently) from a Gaussian with mean $\\mu$ and standard deviation $\\sigma$.\n",
    "\n",
    "1. What is the negative log likelihood of the data under this assumption?\n",
    "2. Prove that $\\mu$ and $\\sigma^2$ which minimize the negative log likelihood are exactly $\\mu = \\frac{1}{m} \\sum_{i=1}^m x_i$ and $\\sigma^2 = \\frac{1}{m} \\sum_{i=1}^m (x_i - \\mu)^2$. You may assume that the negative log likelihood is convex, in this case."
   ]
  },
  {
   "cell_type": "markdown",
   "id": "16e25d24",
   "metadata": {},
   "source": [
    "**ANSWER**"
   ]
  }
 ],
 "metadata": {
  "kernelspec": {
   "display_name": "Python 3 (ipykernel)",
   "language": "python",
   "name": "python3"
  },
  "language_info": {
   "codemirror_mode": {
    "name": "ipython",
    "version": 3
   },
   "file_extension": ".py",
   "mimetype": "text/x-python",
   "name": "python",
   "nbconvert_exporter": "python",
   "pygments_lexer": "ipython3",
   "version": "3.11.6"
  }
 },
 "nbformat": 4,
 "nbformat_minor": 5
}
